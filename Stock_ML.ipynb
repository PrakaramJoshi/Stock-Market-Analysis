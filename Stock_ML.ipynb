{
 "cells": [
  {
   "cell_type": "code",
   "execution_count": 26,
   "metadata": {},
   "outputs": [],
   "source": [
    "import pandas as pd\n",
    "import seaborn as sns\n",
    "import matplotlib.pyplot as plt\n",
    "from sklearn.preprocessing import StandardScaler, LabelEncoder\n",
    "from sklearn.model_selection import train_test_split\n",
    "from sklearn.ensemble import RandomForestClassifier\n",
    "from sklearn.svm import SVC\n",
    "from sklearn import svm\n",
    "from sklearn.neural_network import MLPClassifier\n",
    "from sklearn.metrics import confusion_matrix, classification_report\n",
    "from sklearn.model_selection import GridSearchCV"
   ]
  },
  {
   "cell_type": "markdown",
   "metadata": {},
   "source": [
    "## Data Wrangling"
   ]
  },
  {
   "cell_type": "code",
   "execution_count": 27,
   "metadata": {
    "pycharm": {
     "is_executing": true
    }
   },
   "outputs": [],
   "source": [
    "stocks = pd.read_csv('data.csv', index_col=0)"
   ]
  },
  {
   "cell_type": "code",
   "execution_count": 28,
   "metadata": {
    "pycharm": {
     "is_executing": true
    }
   },
   "outputs": [
    {
     "data": {
      "text/html": [
       "<div>\n",
       "<style scoped>\n",
       "    .dataframe tbody tr th:only-of-type {\n",
       "        vertical-align: middle;\n",
       "    }\n",
       "\n",
       "    .dataframe tbody tr th {\n",
       "        vertical-align: top;\n",
       "    }\n",
       "\n",
       "    .dataframe thead th {\n",
       "        text-align: right;\n",
       "    }\n",
       "</style>\n",
       "<table border=\"1\" class=\"dataframe\">\n",
       "  <thead>\n",
       "    <tr style=\"text-align: right;\">\n",
       "      <th></th>\n",
       "      <th>high</th>\n",
       "      <th>low</th>\n",
       "      <th>open</th>\n",
       "      <th>close</th>\n",
       "      <th>volume</th>\n",
       "      <th>adj_close</th>\n",
       "      <th>sp_percent_change</th>\n",
       "      <th>percent_change</th>\n",
       "      <th>SMA_41_period_SMA</th>\n",
       "      <th>SMM_9_period_SMM</th>\n",
       "      <th>...</th>\n",
       "      <th>PPO_HISTO</th>\n",
       "      <th>VW_MACD_MACD</th>\n",
       "      <th>VW_MACD_SIGNAL</th>\n",
       "      <th>EV_MACD_MACD</th>\n",
       "      <th>EV_MACD_SIGNAL</th>\n",
       "      <th>MOM_MOM</th>\n",
       "      <th>ROC_ROC</th>\n",
       "      <th>RSI_RSI</th>\n",
       "      <th>IFT_RSI_IFT_RSI</th>\n",
       "      <th>short_result</th>\n",
       "    </tr>\n",
       "  </thead>\n",
       "  <tbody>\n",
       "    <tr>\n",
       "      <th>0</th>\n",
       "      <td>3.937500</td>\n",
       "      <td>3.781250</td>\n",
       "      <td>3.812500</td>\n",
       "      <td>3.925781</td>\n",
       "      <td>53843200.0</td>\n",
       "      <td>2.518801</td>\n",
       "      <td>0.003021</td>\n",
       "      <td>0.019270</td>\n",
       "      <td>3.888529</td>\n",
       "      <td>3.925781</td>\n",
       "      <td>...</td>\n",
       "      <td>0.326573</td>\n",
       "      <td>0.027446</td>\n",
       "      <td>0.019021</td>\n",
       "      <td>0.084081</td>\n",
       "      <td>0.085987</td>\n",
       "      <td>0.160156</td>\n",
       "      <td>5.345912</td>\n",
       "      <td>52.326346</td>\n",
       "      <td>0.128566</td>\n",
       "      <td>0</td>\n",
       "    </tr>\n",
       "    <tr>\n",
       "      <th>1</th>\n",
       "      <td>3.945312</td>\n",
       "      <td>3.875000</td>\n",
       "      <td>3.937500</td>\n",
       "      <td>3.875977</td>\n",
       "      <td>36739200.0</td>\n",
       "      <td>2.486846</td>\n",
       "      <td>0.001338</td>\n",
       "      <td>-0.012686</td>\n",
       "      <td>3.889315</td>\n",
       "      <td>3.925781</td>\n",
       "      <td>...</td>\n",
       "      <td>0.165085</td>\n",
       "      <td>0.023622</td>\n",
       "      <td>0.019941</td>\n",
       "      <td>0.082570</td>\n",
       "      <td>0.085304</td>\n",
       "      <td>0.063477</td>\n",
       "      <td>2.293814</td>\n",
       "      <td>46.603432</td>\n",
       "      <td>0.042299</td>\n",
       "      <td>6</td>\n",
       "    </tr>\n",
       "    <tr>\n",
       "      <th>2</th>\n",
       "      <td>3.890625</td>\n",
       "      <td>3.812500</td>\n",
       "      <td>3.851562</td>\n",
       "      <td>3.859375</td>\n",
       "      <td>52459200.0</td>\n",
       "      <td>2.476195</td>\n",
       "      <td>0.002674</td>\n",
       "      <td>-0.004283</td>\n",
       "      <td>3.888553</td>\n",
       "      <td>3.925781</td>\n",
       "      <td>...</td>\n",
       "      <td>0.025102</td>\n",
       "      <td>0.017531</td>\n",
       "      <td>0.019459</td>\n",
       "      <td>0.079963</td>\n",
       "      <td>0.084236</td>\n",
       "      <td>0.023438</td>\n",
       "      <td>2.489627</td>\n",
       "      <td>44.722182</td>\n",
       "      <td>0.004378</td>\n",
       "      <td>6</td>\n",
       "    </tr>\n",
       "    <tr>\n",
       "      <th>3</th>\n",
       "      <td>3.812500</td>\n",
       "      <td>3.734375</td>\n",
       "      <td>3.804688</td>\n",
       "      <td>3.742188</td>\n",
       "      <td>80836800.0</td>\n",
       "      <td>2.401006</td>\n",
       "      <td>0.001000</td>\n",
       "      <td>-0.030365</td>\n",
       "      <td>3.883217</td>\n",
       "      <td>3.925781</td>\n",
       "      <td>...</td>\n",
       "      <td>-0.259541</td>\n",
       "      <td>-0.001684</td>\n",
       "      <td>0.015230</td>\n",
       "      <td>0.071205</td>\n",
       "      <td>0.081629</td>\n",
       "      <td>-0.085938</td>\n",
       "      <td>-1.844262</td>\n",
       "      <td>33.656509</td>\n",
       "      <td>2.017359</td>\n",
       "      <td>9</td>\n",
       "    </tr>\n",
       "    <tr>\n",
       "      <th>4</th>\n",
       "      <td>3.765625</td>\n",
       "      <td>3.734375</td>\n",
       "      <td>3.757812</td>\n",
       "      <td>3.742188</td>\n",
       "      <td>58376000.0</td>\n",
       "      <td>2.401006</td>\n",
       "      <td>0.003996</td>\n",
       "      <td>0.000000</td>\n",
       "      <td>3.876739</td>\n",
       "      <td>3.875977</td>\n",
       "      <td>...</td>\n",
       "      <td>-0.427895</td>\n",
       "      <td>-0.011353</td>\n",
       "      <td>0.009914</td>\n",
       "      <td>0.065696</td>\n",
       "      <td>0.078443</td>\n",
       "      <td>-0.179688</td>\n",
       "      <td>-2.443992</td>\n",
       "      <td>33.656509</td>\n",
       "      <td>678.794701</td>\n",
       "      <td>10</td>\n",
       "    </tr>\n",
       "  </tbody>\n",
       "</table>\n",
       "<p>5 rows × 40 columns</p>\n",
       "</div>"
      ],
      "text/plain": [
       "       high       low      open     close      volume  adj_close  \\\n",
       "0  3.937500  3.781250  3.812500  3.925781  53843200.0   2.518801   \n",
       "1  3.945312  3.875000  3.937500  3.875977  36739200.0   2.486846   \n",
       "2  3.890625  3.812500  3.851562  3.859375  52459200.0   2.476195   \n",
       "3  3.812500  3.734375  3.804688  3.742188  80836800.0   2.401006   \n",
       "4  3.765625  3.734375  3.757812  3.742188  58376000.0   2.401006   \n",
       "\n",
       "   sp_percent_change  percent_change  SMA_41_period_SMA  SMM_9_period_SMM  \\\n",
       "0           0.003021        0.019270           3.888529          3.925781   \n",
       "1           0.001338       -0.012686           3.889315          3.925781   \n",
       "2           0.002674       -0.004283           3.888553          3.925781   \n",
       "3           0.001000       -0.030365           3.883217          3.925781   \n",
       "4           0.003996        0.000000           3.876739          3.875977   \n",
       "\n",
       "   ...  PPO_HISTO  VW_MACD_MACD  VW_MACD_SIGNAL  EV_MACD_MACD  EV_MACD_SIGNAL  \\\n",
       "0  ...   0.326573      0.027446        0.019021      0.084081        0.085987   \n",
       "1  ...   0.165085      0.023622        0.019941      0.082570        0.085304   \n",
       "2  ...   0.025102      0.017531        0.019459      0.079963        0.084236   \n",
       "3  ...  -0.259541     -0.001684        0.015230      0.071205        0.081629   \n",
       "4  ...  -0.427895     -0.011353        0.009914      0.065696        0.078443   \n",
       "\n",
       "    MOM_MOM   ROC_ROC    RSI_RSI  IFT_RSI_IFT_RSI  short_result  \n",
       "0  0.160156  5.345912  52.326346         0.128566             0  \n",
       "1  0.063477  2.293814  46.603432         0.042299             6  \n",
       "2  0.023438  2.489627  44.722182         0.004378             6  \n",
       "3 -0.085938 -1.844262  33.656509         2.017359             9  \n",
       "4 -0.179688 -2.443992  33.656509       678.794701            10  \n",
       "\n",
       "[5 rows x 40 columns]"
      ]
     },
     "execution_count": 28,
     "metadata": {},
     "output_type": "execute_result"
    }
   ],
   "source": [
    "del stocks['date']\n",
    "stocks.head()"
   ]
  },
  {
   "cell_type": "code",
   "execution_count": 29,
   "metadata": {
    "pycharm": {
     "is_executing": true
    }
   },
   "outputs": [
    {
     "name": "stdout",
     "output_type": "stream",
     "text": [
      "<class 'pandas.core.frame.DataFrame'>\n",
      "Int64Index: 261856 entries, 0 to 261855\n",
      "Data columns (total 40 columns):\n",
      " #   Column                  Non-Null Count   Dtype  \n",
      "---  ------                  --------------   -----  \n",
      " 0   high                    261856 non-null  float64\n",
      " 1   low                     261856 non-null  float64\n",
      " 2   open                    261856 non-null  float64\n",
      " 3   close                   261856 non-null  float64\n",
      " 4   volume                  261856 non-null  float64\n",
      " 5   adj_close               261856 non-null  float64\n",
      " 6   sp_percent_change       261856 non-null  float64\n",
      " 7   percent_change          261856 non-null  float64\n",
      " 8   SMA_41_period_SMA       261856 non-null  float64\n",
      " 9   SMM_9_period_SMM        261856 non-null  float64\n",
      " 10  SSMA_9_period_SSMA      261856 non-null  float64\n",
      " 11  EMA_9_period_EMA        261856 non-null  float64\n",
      " 12  DEMA_9_period_DEMA      261856 non-null  float64\n",
      " 13  TEMA_9_period_TEMA      261856 non-null  float64\n",
      " 14  TRIMA_18_period_TRIMA   261856 non-null  float64\n",
      " 15  TRIX_20_period_TRIX     261856 non-null  float64\n",
      " 16  VAMA_8_period_VAMA      261856 non-null  float64\n",
      " 17  ER_10_period_ER         261856 non-null  float64\n",
      " 18  KAMA_20_period_KAMA.    261856 non-null  float64\n",
      " 19  ZLEMA_26_period_ZLEMA   261856 non-null  float64\n",
      " 20  WMA_9_period_WMA.       261856 non-null  float64\n",
      " 21  deltawma                261856 non-null  float64\n",
      " 22  HMA_16_period_HMA.      261856 non-null  float64\n",
      " 23  EVWMA_20_period_EVWMA.  261856 non-null  float64\n",
      " 24  VWAP_VWAP.              261856 non-null  float64\n",
      " 25  SMMA_SMMA               261856 non-null  float64\n",
      " 26  MACD_MACD               261856 non-null  float64\n",
      " 27  MACD_SIGNAL             261856 non-null  float64\n",
      " 28  PPO_PPO                 261856 non-null  float64\n",
      " 29  PPO_SIGNAL              261856 non-null  float64\n",
      " 30  PPO_HISTO               261856 non-null  float64\n",
      " 31  VW_MACD_MACD            261856 non-null  float64\n",
      " 32  VW_MACD_SIGNAL          261856 non-null  float64\n",
      " 33  EV_MACD_MACD            261856 non-null  float64\n",
      " 34  EV_MACD_SIGNAL          261856 non-null  float64\n",
      " 35  MOM_MOM                 261856 non-null  float64\n",
      " 36  ROC_ROC                 261856 non-null  float64\n",
      " 37  RSI_RSI                 261856 non-null  float64\n",
      " 38  IFT_RSI_IFT_RSI         261856 non-null  float64\n",
      " 39  short_result            261856 non-null  int64  \n",
      "dtypes: float64(39), int64(1)\n",
      "memory usage: 81.9 MB\n"
     ]
    }
   ],
   "source": [
    "stocks.info()"
   ]
  },
  {
   "cell_type": "code",
   "execution_count": 30,
   "metadata": {
    "pycharm": {
     "is_executing": true
    },
    "scrolled": true
   },
   "outputs": [
    {
     "data": {
      "text/plain": [
       "high                      0\n",
       "low                       0\n",
       "open                      0\n",
       "close                     0\n",
       "volume                    0\n",
       "adj_close                 0\n",
       "sp_percent_change         0\n",
       "percent_change            0\n",
       "SMA_41_period_SMA         0\n",
       "SMM_9_period_SMM          0\n",
       "SSMA_9_period_SSMA        0\n",
       "EMA_9_period_EMA          0\n",
       "DEMA_9_period_DEMA        0\n",
       "TEMA_9_period_TEMA        0\n",
       "TRIMA_18_period_TRIMA     0\n",
       "TRIX_20_period_TRIX       0\n",
       "VAMA_8_period_VAMA        0\n",
       "ER_10_period_ER           0\n",
       "KAMA_20_period_KAMA.      0\n",
       "ZLEMA_26_period_ZLEMA     0\n",
       "WMA_9_period_WMA.         0\n",
       "deltawma                  0\n",
       "HMA_16_period_HMA.        0\n",
       "EVWMA_20_period_EVWMA.    0\n",
       "VWAP_VWAP.                0\n",
       "SMMA_SMMA                 0\n",
       "MACD_MACD                 0\n",
       "MACD_SIGNAL               0\n",
       "PPO_PPO                   0\n",
       "PPO_SIGNAL                0\n",
       "PPO_HISTO                 0\n",
       "VW_MACD_MACD              0\n",
       "VW_MACD_SIGNAL            0\n",
       "EV_MACD_MACD              0\n",
       "EV_MACD_SIGNAL            0\n",
       "MOM_MOM                   0\n",
       "ROC_ROC                   0\n",
       "RSI_RSI                   0\n",
       "IFT_RSI_IFT_RSI           0\n",
       "short_result              0\n",
       "dtype: int64"
      ]
     },
     "execution_count": 30,
     "metadata": {},
     "output_type": "execute_result"
    }
   ],
   "source": [
    "stocks.isnull().sum()"
   ]
  },
  {
   "cell_type": "markdown",
   "metadata": {},
   "source": [
    "### Prepping data"
   ]
  },
  {
   "cell_type": "code",
   "execution_count": 31,
   "metadata": {
    "pycharm": {
     "is_executing": true
    }
   },
   "outputs": [
    {
     "data": {
      "text/plain": [
       "[hold, buy, strong buy, sell, strong sell]\n",
       "Categories (5, object): [strong sell < sell < hold < buy < strong buy]"
      ]
     },
     "execution_count": 31,
     "metadata": {},
     "output_type": "execute_result"
    }
   ],
   "source": [
    "bins=[-300, -11, -5, 5, 11, 300]\n",
    "group_names = ['strong sell', 'sell', 'hold', 'buy', 'strong buy']\n",
    "stocks['short_result'] = pd.cut(stocks['short_result'], bins=bins, labels=group_names)\n",
    "stocks['short_result'].unique()"
   ]
  },
  {
   "cell_type": "code",
   "execution_count": 32,
   "metadata": {
    "pycharm": {
     "is_executing": true
    }
   },
   "outputs": [],
   "source": [
    "label_result = LabelEncoder()"
   ]
  },
  {
   "cell_type": "code",
   "execution_count": 33,
   "metadata": {
    "pycharm": {
     "is_executing": true
    }
   },
   "outputs": [],
   "source": [
    "stocks['short_result'] = label_result.fit_transform(stocks['short_result'])"
   ]
  },
  {
   "cell_type": "code",
   "execution_count": 34,
   "metadata": {
    "pycharm": {
     "is_executing": true
    }
   },
   "outputs": [
    {
     "data": {
      "text/html": [
       "<div>\n",
       "<style scoped>\n",
       "    .dataframe tbody tr th:only-of-type {\n",
       "        vertical-align: middle;\n",
       "    }\n",
       "\n",
       "    .dataframe tbody tr th {\n",
       "        vertical-align: top;\n",
       "    }\n",
       "\n",
       "    .dataframe thead th {\n",
       "        text-align: right;\n",
       "    }\n",
       "</style>\n",
       "<table border=\"1\" class=\"dataframe\">\n",
       "  <thead>\n",
       "    <tr style=\"text-align: right;\">\n",
       "      <th></th>\n",
       "      <th>high</th>\n",
       "      <th>low</th>\n",
       "      <th>open</th>\n",
       "      <th>close</th>\n",
       "      <th>volume</th>\n",
       "      <th>adj_close</th>\n",
       "      <th>sp_percent_change</th>\n",
       "      <th>percent_change</th>\n",
       "      <th>SMA_41_period_SMA</th>\n",
       "      <th>SMM_9_period_SMM</th>\n",
       "      <th>...</th>\n",
       "      <th>PPO_HISTO</th>\n",
       "      <th>VW_MACD_MACD</th>\n",
       "      <th>VW_MACD_SIGNAL</th>\n",
       "      <th>EV_MACD_MACD</th>\n",
       "      <th>EV_MACD_SIGNAL</th>\n",
       "      <th>MOM_MOM</th>\n",
       "      <th>ROC_ROC</th>\n",
       "      <th>RSI_RSI</th>\n",
       "      <th>IFT_RSI_IFT_RSI</th>\n",
       "      <th>short_result</th>\n",
       "    </tr>\n",
       "  </thead>\n",
       "  <tbody>\n",
       "    <tr>\n",
       "      <th>0</th>\n",
       "      <td>3.937500</td>\n",
       "      <td>3.781250</td>\n",
       "      <td>3.812500</td>\n",
       "      <td>3.925781</td>\n",
       "      <td>53843200.0</td>\n",
       "      <td>2.518801</td>\n",
       "      <td>0.003021</td>\n",
       "      <td>0.019270</td>\n",
       "      <td>3.888529</td>\n",
       "      <td>3.925781</td>\n",
       "      <td>...</td>\n",
       "      <td>0.326573</td>\n",
       "      <td>0.027446</td>\n",
       "      <td>0.019021</td>\n",
       "      <td>0.084081</td>\n",
       "      <td>0.085987</td>\n",
       "      <td>0.160156</td>\n",
       "      <td>5.345912</td>\n",
       "      <td>52.326346</td>\n",
       "      <td>0.128566</td>\n",
       "      <td>1</td>\n",
       "    </tr>\n",
       "    <tr>\n",
       "      <th>1</th>\n",
       "      <td>3.945312</td>\n",
       "      <td>3.875000</td>\n",
       "      <td>3.937500</td>\n",
       "      <td>3.875977</td>\n",
       "      <td>36739200.0</td>\n",
       "      <td>2.486846</td>\n",
       "      <td>0.001338</td>\n",
       "      <td>-0.012686</td>\n",
       "      <td>3.889315</td>\n",
       "      <td>3.925781</td>\n",
       "      <td>...</td>\n",
       "      <td>0.165085</td>\n",
       "      <td>0.023622</td>\n",
       "      <td>0.019941</td>\n",
       "      <td>0.082570</td>\n",
       "      <td>0.085304</td>\n",
       "      <td>0.063477</td>\n",
       "      <td>2.293814</td>\n",
       "      <td>46.603432</td>\n",
       "      <td>0.042299</td>\n",
       "      <td>0</td>\n",
       "    </tr>\n",
       "    <tr>\n",
       "      <th>2</th>\n",
       "      <td>3.890625</td>\n",
       "      <td>3.812500</td>\n",
       "      <td>3.851562</td>\n",
       "      <td>3.859375</td>\n",
       "      <td>52459200.0</td>\n",
       "      <td>2.476195</td>\n",
       "      <td>0.002674</td>\n",
       "      <td>-0.004283</td>\n",
       "      <td>3.888553</td>\n",
       "      <td>3.925781</td>\n",
       "      <td>...</td>\n",
       "      <td>0.025102</td>\n",
       "      <td>0.017531</td>\n",
       "      <td>0.019459</td>\n",
       "      <td>0.079963</td>\n",
       "      <td>0.084236</td>\n",
       "      <td>0.023438</td>\n",
       "      <td>2.489627</td>\n",
       "      <td>44.722182</td>\n",
       "      <td>0.004378</td>\n",
       "      <td>0</td>\n",
       "    </tr>\n",
       "    <tr>\n",
       "      <th>3</th>\n",
       "      <td>3.812500</td>\n",
       "      <td>3.734375</td>\n",
       "      <td>3.804688</td>\n",
       "      <td>3.742188</td>\n",
       "      <td>80836800.0</td>\n",
       "      <td>2.401006</td>\n",
       "      <td>0.001000</td>\n",
       "      <td>-0.030365</td>\n",
       "      <td>3.883217</td>\n",
       "      <td>3.925781</td>\n",
       "      <td>...</td>\n",
       "      <td>-0.259541</td>\n",
       "      <td>-0.001684</td>\n",
       "      <td>0.015230</td>\n",
       "      <td>0.071205</td>\n",
       "      <td>0.081629</td>\n",
       "      <td>-0.085938</td>\n",
       "      <td>-1.844262</td>\n",
       "      <td>33.656509</td>\n",
       "      <td>2.017359</td>\n",
       "      <td>0</td>\n",
       "    </tr>\n",
       "    <tr>\n",
       "      <th>4</th>\n",
       "      <td>3.765625</td>\n",
       "      <td>3.734375</td>\n",
       "      <td>3.757812</td>\n",
       "      <td>3.742188</td>\n",
       "      <td>58376000.0</td>\n",
       "      <td>2.401006</td>\n",
       "      <td>0.003996</td>\n",
       "      <td>0.000000</td>\n",
       "      <td>3.876739</td>\n",
       "      <td>3.875977</td>\n",
       "      <td>...</td>\n",
       "      <td>-0.427895</td>\n",
       "      <td>-0.011353</td>\n",
       "      <td>0.009914</td>\n",
       "      <td>0.065696</td>\n",
       "      <td>0.078443</td>\n",
       "      <td>-0.179688</td>\n",
       "      <td>-2.443992</td>\n",
       "      <td>33.656509</td>\n",
       "      <td>678.794701</td>\n",
       "      <td>0</td>\n",
       "    </tr>\n",
       "  </tbody>\n",
       "</table>\n",
       "<p>5 rows × 40 columns</p>\n",
       "</div>"
      ],
      "text/plain": [
       "       high       low      open     close      volume  adj_close  \\\n",
       "0  3.937500  3.781250  3.812500  3.925781  53843200.0   2.518801   \n",
       "1  3.945312  3.875000  3.937500  3.875977  36739200.0   2.486846   \n",
       "2  3.890625  3.812500  3.851562  3.859375  52459200.0   2.476195   \n",
       "3  3.812500  3.734375  3.804688  3.742188  80836800.0   2.401006   \n",
       "4  3.765625  3.734375  3.757812  3.742188  58376000.0   2.401006   \n",
       "\n",
       "   sp_percent_change  percent_change  SMA_41_period_SMA  SMM_9_period_SMM  \\\n",
       "0           0.003021        0.019270           3.888529          3.925781   \n",
       "1           0.001338       -0.012686           3.889315          3.925781   \n",
       "2           0.002674       -0.004283           3.888553          3.925781   \n",
       "3           0.001000       -0.030365           3.883217          3.925781   \n",
       "4           0.003996        0.000000           3.876739          3.875977   \n",
       "\n",
       "   ...  PPO_HISTO  VW_MACD_MACD  VW_MACD_SIGNAL  EV_MACD_MACD  EV_MACD_SIGNAL  \\\n",
       "0  ...   0.326573      0.027446        0.019021      0.084081        0.085987   \n",
       "1  ...   0.165085      0.023622        0.019941      0.082570        0.085304   \n",
       "2  ...   0.025102      0.017531        0.019459      0.079963        0.084236   \n",
       "3  ...  -0.259541     -0.001684        0.015230      0.071205        0.081629   \n",
       "4  ...  -0.427895     -0.011353        0.009914      0.065696        0.078443   \n",
       "\n",
       "    MOM_MOM   ROC_ROC    RSI_RSI  IFT_RSI_IFT_RSI  short_result  \n",
       "0  0.160156  5.345912  52.326346         0.128566             1  \n",
       "1  0.063477  2.293814  46.603432         0.042299             0  \n",
       "2  0.023438  2.489627  44.722182         0.004378             0  \n",
       "3 -0.085938 -1.844262  33.656509         2.017359             0  \n",
       "4 -0.179688 -2.443992  33.656509       678.794701             0  \n",
       "\n",
       "[5 rows x 40 columns]"
      ]
     },
     "execution_count": 34,
     "metadata": {},
     "output_type": "execute_result"
    }
   ],
   "source": [
    "stocks.head()"
   ]
  },
  {
   "cell_type": "code",
   "execution_count": 35,
   "metadata": {
    "pycharm": {
     "is_executing": true
    }
   },
   "outputs": [
    {
     "data": {
      "text/plain": [
       "1    142579\n",
       "0     42264\n",
       "2     38083\n",
       "3     21801\n",
       "4     17129\n",
       "Name: short_result, dtype: int64"
      ]
     },
     "execution_count": 35,
     "metadata": {},
     "output_type": "execute_result"
    }
   ],
   "source": [
    "stocks['short_result'].value_counts()"
   ]
  },
  {
   "cell_type": "code",
   "execution_count": 36,
   "metadata": {
    "pycharm": {
     "is_executing": true
    }
   },
   "outputs": [
    {
     "data": {
      "text/plain": [
       "<matplotlib.axes._subplots.AxesSubplot at 0x12387a128>"
      ]
     },
     "execution_count": 36,
     "metadata": {},
     "output_type": "execute_result"
    },
    {
     "data": {
      "image/png": "[encoded data removed]",
      "text/plain": [
       "<Figure size 432x288 with 1 Axes>"
      ]
     },
     "metadata": {
      "needs_background": "light"
     },
     "output_type": "display_data"
    }
   ],
   "source": [
    "sns.countplot(stocks['short_result'])"
   ]
  },
  {
   "cell_type": "code",
   "execution_count": 37,
   "metadata": {
    "pycharm": {
     "is_executing": true
    }
   },
   "outputs": [],
   "source": [
    "X = stocks.drop('short_result', axis=1)\n",
    "y = stocks['short_result']"
   ]
  },
  {
   "cell_type": "markdown",
   "metadata": {},
   "source": [
    "### Training"
   ]
  },
  {
   "cell_type": "code",
   "execution_count": 38,
   "metadata": {
    "pycharm": {
     "is_executing": true
    }
   },
   "outputs": [],
   "source": [
    "X_train, X_test, y_train, y_test = train_test_split(X, y, test_size=0.2, random_state=42)"
   ]
  },
  {
   "cell_type": "code",
   "execution_count": null,
   "metadata": {
    "pycharm": {
     "is_executing": true
    }
   },
   "outputs": [],
   "source": [
    "sc = StandardScaler()\n",
    "X_train = sc.fit_transform(X_train)\n",
    "X_test = sc.fit_transform(X_test)"
   ]
  },
  {
   "cell_type": "markdown",
   "metadata": {},
   "source": [
    "# Random Forest Classifer"
   ]
  },
  {
   "cell_type": "code",
   "execution_count": null,
   "metadata": {
    "pycharm": {
     "is_executing": true
    }
   },
   "outputs": [],
   "source": [
    "rfc = RandomForestClassifier(n_estimators=100)\n",
    "rfc.fit(X_train, y_train)\n",
    "pred_rfc = rfc.predict(X_test)"
   ]
  },
  {
   "cell_type": "code",
   "execution_count": null,
   "metadata": {
    "pycharm": {
     "is_executing": true
    }
   },
   "outputs": [],
   "source": [
    "# See how our model performed\n",
    "print(classification_report(y_test, pred_rfc))\n",
    "print(confusion_matrix(y_test, pred_rfc))"
   ]
  },
  {
   "cell_type": "markdown",
   "metadata": {},
   "source": [
    "# SVM Classifier"
   ]
  },
  {
   "cell_type": "code",
   "execution_count": null,
   "metadata": {
    "pycharm": {
     "is_executing": true
    }
   },
   "outputs": [],
   "source": [
    "clf=svm.SVC()\n",
    "clf.fit(X_train, y_train)\n",
    "pred_clf = clf.predict(X_test)"
   ]
  },
  {
   "cell_type": "code",
   "execution_count": null,
   "metadata": {
    "pycharm": {
     "is_executing": true
    }
   },
   "outputs": [],
   "source": [
    "# See how our model performed\n",
    "print(classification_report(y_test, pred_clf))\n",
    "print(confusion_matrix(y_test, pred_clf))"
   ]
  },
  {
   "cell_type": "markdown",
   "metadata": {},
   "source": [
    "# Neural Network"
   ]
  },
  {
   "cell_type": "code",
   "execution_count": null,
   "metadata": {
    "pycharm": {
     "is_executing": true
    }
   },
   "outputs": [],
   "source": [
    "mlpc = MLPClassifier(hidden_layer_sizes=(10,10,10), max_iter=200)\n",
    "mlpc.fit(X_train, y_train)\n",
    "mlpc_clf = mlpc.predict(X_test)"
   ]
  },
  {
   "cell_type": "code",
   "execution_count": null,
   "metadata": {
    "pycharm": {
     "is_executing": true
    }
   },
   "outputs": [],
   "source": [
    "# See how our model performed\n",
    "print(classification_report(y_test, mlpc_clf))\n",
    "print(confusion_matrix(y_test, mlpc_clf))"
   ]
  },
  {
   "cell_type": "code",
   "execution_count": null,
   "metadata": {
    "pycharm": {
     "is_executing": true
    }
   },
   "outputs": [],
   "source": []
  }
 ],
 "metadata": {
  "kernelspec": {
   "display_name": "Python 3",
   "language": "python",
   "name": "python3"
  },
  "language_info": {
   "codemirror_mode": {
    "name": "ipython",
    "version": 3
   },
   "file_extension": ".py",
   "mimetype": "text/x-python",
   "name": "python",
   "nbconvert_exporter": "python",
   "pygments_lexer": "ipython3",
   "version": "3.7.0"
  }
 },
 "nbformat": 4,
 "nbformat_minor": 4
}